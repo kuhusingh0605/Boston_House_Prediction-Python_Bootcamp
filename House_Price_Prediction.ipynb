import numpy as np
import pandas as pd
import matplotlib.pyplot as plt
import seaborn as sns
from sklearn.model_selection import train_test_split
from sklearn.linear_model import LinearRegression
from sklearn import metrics
from xgboost import XGBRegressor
dataset = pd.read_csv("/content/boston.csv")
dataset
dataset.head()
dataset.tail()
dataset.shape
dataset.isnull().sum()
correlation = dataset.corr()
plt.figure(figsize=(10,10))
sns.heatmap(correlation,cbar=True,square=True,fmt='.1f',annot=True,annot_kws={'size':8},cmap='Blues')
X = dataset.drop('MEDV', axis=1)
Y = dataset['MEDV']
X
Y
X_train, X_test, Y_train, Y_test = train_test_split(X, Y, test_size=0.2, random_state=31)
print(X.shape, X_train.shape, X_test.shape)
model = LinearRegression()
model.fit(X_train, Y_train)
model_prediction = model.predict(X_train)
model_prediction
score1 = metrics.r2_score(model_prediction, Y_train)
print("R2 score = ", score1)
score2 = metrics.mean_absolute_error(model_prediction, Y_train)
print("Mean Absolute Error = ", score2)
model2 = XGBRegressor()
model2.fit(X_train, Y_train)
model_prediction = model2.predict(X_train)
score1 = metrics.r2_score(model_prediction, Y_train)
print("R2 score = ", score1)
score2 = metrics.mean_absolute_error(model_prediction, Y_train)
print("Mean Absolute Error = ", score2)
input_data = np.array([[0.04527, 0.0, 11.93, 0, 0.573, 6.120, 76.7, 2.2875, 1, 273.0, 21.0, 396.90, 9.08]])
model2.predict(input_data) #20.6
import pickle
pickle.dump(model,open("house_price_prediction.pkl","wb"))

